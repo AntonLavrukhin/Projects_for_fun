{
 "cells": [
  {
   "cell_type": "markdown",
   "metadata": {},
   "source": [
    "## _Miniproject with games dataset in pandas\n",
    "\n",
    "###  _Exploring world games data with volume of sale more than 100 000 copies.\n",
    "\n",
    "-------------------------------------------------------------------------------------------------------------------------------\n",
    "\n",
    "### _Мини-проект по датасету с играми в разных регионах мира.\n",
    "\n",
    "#### _На этот раз исследуем набор данных о видеоиграх, объем продаж которых составил более 100 000 копий."
   ]
  },
  {
   "cell_type": "code",
   "execution_count": 4,
   "metadata": {},
   "outputs": [],
   "source": [
    "# Importing needed libraries \n",
    "# Загружаем необходимые библиотеки\n",
    "\n",
    "import pandas as pd\n",
    "import numpy as np\n",
    "import seaborn as sns\n",
    "import matplotlib.pyplot as plt\n",
    "import scipy as sp"
   ]
  },
  {
   "cell_type": "code",
   "execution_count": 5,
   "metadata": {},
   "outputs": [],
   "source": [
    "# Reading our file with pandas\n",
    "# Считываем наш файл\n",
    "\n",
    "df = pd.read_csv('/mnt/HC_Volume_18315164/home-jupyter/jupyter-a-lavrukhin/games.csv')"
   ]
  },
  {
   "cell_type": "code",
   "execution_count": 6,
   "metadata": {},
   "outputs": [
    {
     "name": "stdout",
     "output_type": "stream",
     "text": [
      "<class 'pandas.core.frame.DataFrame'>\n",
      "RangeIndex: 16598 entries, 0 to 16597\n",
      "Data columns (total 11 columns):\n",
      " #   Column        Non-Null Count  Dtype  \n",
      "---  ------        --------------  -----  \n",
      " 0   Rank          16598 non-null  int64  \n",
      " 1   Name          16598 non-null  object \n",
      " 2   Platform      16598 non-null  object \n",
      " 3   Year          16327 non-null  float64\n",
      " 4   Genre         16598 non-null  object \n",
      " 5   Publisher     16540 non-null  object \n",
      " 6   NA_Sales      16598 non-null  float64\n",
      " 7   EU_Sales      16598 non-null  float64\n",
      " 8   JP_Sales      16598 non-null  float64\n",
      " 9   Other_Sales   16598 non-null  float64\n",
      " 10  Global_Sales  16598 non-null  float64\n",
      "dtypes: float64(6), int64(1), object(4)\n",
      "memory usage: 1.4+ MB\n"
     ]
    }
   ],
   "source": [
    "# 1.Step. Explore data and find missing values in data, if you find it - clear them all. \n",
    "\n",
    "# Lets make some EDA\n",
    "# Сделаем небольшой разведывательный анализ\n",
    "\n",
    "df.info()"
   ]
  },
  {
   "cell_type": "code",
   "execution_count": 7,
   "metadata": {},
   "outputs": [
    {
     "data": {
      "text/plain": [
       "Rank              0\n",
       "Name              0\n",
       "Platform          0\n",
       "Year            271\n",
       "Genre             0\n",
       "Publisher        58\n",
       "NA_Sales          0\n",
       "EU_Sales          0\n",
       "JP_Sales          0\n",
       "Other_Sales       0\n",
       "Global_Sales      0\n",
       "dtype: int64"
      ]
     },
     "execution_count": 7,
     "metadata": {},
     "output_type": "execute_result"
    }
   ],
   "source": [
    "# Checking for missing data\n",
    "# Проверяем отсутсвующие данные\n",
    "\n",
    "df.isnull().sum()"
   ]
  },
  {
   "cell_type": "code",
   "execution_count": 8,
   "metadata": {},
   "outputs": [
    {
     "data": {
      "text/plain": [
       "Rank            16598\n",
       "Name            11493\n",
       "Platform           31\n",
       "Year               39\n",
       "Genre              12\n",
       "Publisher         578\n",
       "NA_Sales          409\n",
       "EU_Sales          305\n",
       "JP_Sales          244\n",
       "Other_Sales       157\n",
       "Global_Sales      623\n",
       "dtype: int64"
      ]
     },
     "execution_count": 8,
     "metadata": {},
     "output_type": "execute_result"
    }
   ],
   "source": [
    "# Checking for unique data\n",
    "# Смотрим на уникальные данные\n",
    "\n",
    "df.nunique()"
   ]
  },
  {
   "cell_type": "code",
   "execution_count": 9,
   "metadata": {},
   "outputs": [],
   "source": [
    "# Lets clear up all missing data from our columns\n",
    "# Удаляем отсутствующие данные из нужных колонок\n",
    "\n",
    "df = df.dropna(subset=['Year', 'Publisher'])"
   ]
  },
  {
   "cell_type": "code",
   "execution_count": 11,
   "metadata": {},
   "outputs": [
    {
     "data": {
      "text/plain": [
       "2009.0    1431\n",
       "2008.0    1428\n",
       "2010.0    1257\n",
       "2007.0    1201\n",
       "2011.0    1136\n",
       "2006.0    1008\n",
       "2005.0     936\n",
       "2002.0     829\n",
       "2003.0     775\n",
       "2004.0     744\n",
       "2012.0     655\n",
       "2015.0     614\n",
       "2014.0     580\n",
       "2013.0     546\n",
       "2001.0     482\n",
       "1998.0     379\n",
       "2000.0     349\n",
       "2016.0     342\n",
       "1999.0     338\n",
       "1997.0     289\n",
       "1996.0     263\n",
       "1995.0     219\n",
       "1994.0     121\n",
       "1993.0      60\n",
       "1981.0      46\n",
       "1992.0      43\n",
       "1991.0      41\n",
       "1982.0      36\n",
       "1986.0      21\n",
       "1983.0      17\n",
       "1989.0      17\n",
       "1990.0      16\n",
       "1987.0      16\n",
       "1988.0      15\n",
       "1985.0      14\n",
       "1984.0      14\n",
       "1980.0       9\n",
       "2017.0       3\n",
       "2020.0       1\n",
       "Name: Year, dtype: int64"
      ]
     },
     "execution_count": 11,
     "metadata": {},
     "output_type": "execute_result"
    }
   ],
   "source": [
    "# Step 2. Checking the number of games released each year\n",
    "# Выведите описательные характеристики переменной \"Year\"\n",
    "\n",
    "# Questions to answer: 1. Find mode for this values 2. Is it true that half of games were issued after 2007? 3. Median is bigger than mean?\n",
    "\n",
    "df.Year.value_counts() "
   ]
  },
  {
   "cell_type": "code",
   "execution_count": 12,
   "metadata": {},
   "outputs": [
    {
     "data": {
      "text/plain": [
       "ModeResult(mode=array([2009.]), count=array([1431]))"
      ]
     },
     "execution_count": 12,
     "metadata": {},
     "output_type": "execute_result"
    }
   ],
   "source": [
    "# 1. Finding mode for this values // Mode is 2009 \n",
    "# 1. Ищем моду для наших данных // Мода равна 2009\n",
    "\n",
    "sp.stats.mode(df.Year)"
   ]
  },
  {
   "cell_type": "code",
   "execution_count": 16,
   "metadata": {},
   "outputs": [
    {
     "data": {
      "text/plain": [
       "2007.0"
      ]
     },
     "execution_count": 16,
     "metadata": {},
     "output_type": "execute_result"
    }
   ],
   "source": [
    "# 1. Finding median for this values // Median is 2007\n",
    "# 1. Ищем медиану для наших данных // Медиана равна 2007\n",
    "\n",
    "df.Year.median()"
   ]
  },
  {
   "cell_type": "code",
   "execution_count": 17,
   "metadata": {},
   "outputs": [
    {
     "data": {
      "text/plain": [
       "count    16291.000000\n",
       "mean      2006.405561\n",
       "std          5.832412\n",
       "min       1980.000000\n",
       "25%       2003.000000\n",
       "50%       2007.000000\n",
       "75%       2010.000000\n",
       "max       2020.000000\n",
       "Name: Year, dtype: float64"
      ]
     },
     "execution_count": 17,
     "metadata": {},
     "output_type": "execute_result"
    }
   ],
   "source": [
    "# 1. Lets look for mean for this values // Mean is 2006.405561\n",
    "# 1. Ищем среднее для наших данных // Среднее равно 2006.405561\n",
    "\n",
    "df.Year.describe()"
   ]
  },
  {
   "cell_type": "code",
   "execution_count": 14,
   "metadata": {},
   "outputs": [
    {
     "name": "stderr",
     "output_type": "stream",
     "text": [
      "/opt/tljh/user/lib/python3.7/site-packages/seaborn/_decorators.py:43: FutureWarning: Pass the following variable as a keyword arg: x. From version 0.12, the only valid positional argument will be `data`, and passing other arguments without an explicit keyword will result in an error or misinterpretation.\n",
      "  FutureWarning\n"
     ]
    },
    {
     "data": {
      "text/plain": [
       "<matplotlib.axes._subplots.AxesSubplot at 0x7f2f1a81b438>"
      ]
     },
     "execution_count": 14,
     "metadata": {},
     "output_type": "execute_result"
    },
    {
     "data": {
      "image/png": "[encoded data removed]",
      "text/plain": [
       "<Figure size 2160x1080 with 1 Axes>"
      ]
     },
     "metadata": {},
     "output_type": "display_data"
    }
   ],
   "source": [
    "# Step 3. Countplot values \n",
    "# Постройте график распределения количества выпущенных игр по годам\n",
    "\n",
    "width = 30\n",
    "height = 15\n",
    "sns.set(rc = {'figure.figsize':(width, height)})\n",
    "sns.countplot(df.Year)"
   ]
  },
  {
   "cell_type": "code",
   "execution_count": 18,
   "metadata": {},
   "outputs": [
    {
     "data": {
      "text/plain": [
       "DS      13.080842\n",
       "PS2     13.056289\n",
       "PS3      8.004420\n",
       "Wii      7.918483\n",
       "X360     7.574735\n",
       "PSP      7.347615\n",
       "PS       7.298508\n",
       "PC       0.000000\n",
       "XB       0.000000\n",
       "GBA      0.000000\n",
       "GC       0.000000\n",
       "3DS      0.000000\n",
       "PSV      0.000000\n",
       "PS4      0.000000\n",
       "N64      0.000000\n",
       "SNES     0.000000\n",
       "XOne     0.000000\n",
       "SAT      0.000000\n",
       "WiiU     0.000000\n",
       "2600     0.000000\n",
       "NES      0.000000\n",
       "GB       0.000000\n",
       "DC       0.000000\n",
       "GEN      0.000000\n",
       "NG       0.000000\n",
       "SCD      0.000000\n",
       "WS       0.000000\n",
       "3DO      0.000000\n",
       "TG16     0.000000\n",
       "GG       0.000000\n",
       "PCFX     0.000000\n",
       "Name: Platform, dtype: float64"
      ]
     },
     "execution_count": 18,
     "metadata": {},
     "output_type": "execute_result"
    }
   ],
   "source": [
    "# Step 4. Which Platforms have more releases? \n",
    "# Select only platforms that have frequency of occurrence more than 7%\n",
    "\n",
    "# На каких платформах произошло больше всего релизов?\n",
    "# Оставьте названия только тех платформ, частота встречаемости которых составляет более 7%\n",
    "\n",
    "platform_frequency = df.Platform.value_counts(normalize=True) * 100\n",
    "\n",
    "# Using Series.where to select only targeted values\n",
    "platform_frequency.where(platform_frequency > 7, 0)\n",
    "\n",
    "#Selected platforms are: 'DS', 'PS2', 'PS3', 'Wii', 'X360', 'PSP', 'PS'"
   ]
  },
  {
   "cell_type": "code",
   "execution_count": 14,
   "metadata": {},
   "outputs": [
    {
     "data": {
      "text/plain": [
       "Electronic Arts                 1339\n",
       "Activision                       966\n",
       "Namco Bandai Games               928\n",
       "Ubisoft                          918\n",
       "Konami Digital Entertainment     823\n",
       "                                ... \n",
       "Kokopeli Digital Studios           1\n",
       "Locus                              1\n",
       "Interchannel-Holon                 1\n",
       "TechnoSoft                         1\n",
       "Wargaming.net                      1\n",
       "Name: Publisher, Length: 576, dtype: int64"
      ]
     },
     "execution_count": 14,
     "metadata": {},
     "output_type": "execute_result"
    }
   ],
   "source": [
    "# Step 5. Find Publishers that have TOP  frequency of occurrence in dataset. \n",
    "# Игры каких издателей (Publisher) встречаются в датасете чаще всего?\n",
    "\n",
    "df.Publisher.value_counts()\n",
    "\n",
    "# Our top publisher is \"Electronic Arts\" with absolute frequency of occurrence 1339. "
   ]
  },
  {
   "cell_type": "code",
   "execution_count": 21,
   "metadata": {},
   "outputs": [
    {
     "data": {
      "text/html": [
       "<div>\n",
       "<style scoped>\n",
       "    .dataframe tbody tr th:only-of-type {\n",
       "        vertical-align: middle;\n",
       "    }\n",
       "\n",
       "    .dataframe tbody tr th {\n",
       "        vertical-align: top;\n",
       "    }\n",
       "\n",
       "    .dataframe thead th {\n",
       "        text-align: right;\n",
       "    }\n",
       "</style>\n",
       "<table border=\"1\" class=\"dataframe\">\n",
       "  <thead>\n",
       "    <tr style=\"text-align: right;\">\n",
       "      <th></th>\n",
       "      <th>Rank</th>\n",
       "      <th>Name</th>\n",
       "      <th>Platform</th>\n",
       "      <th>Year</th>\n",
       "      <th>Genre</th>\n",
       "      <th>Publisher</th>\n",
       "      <th>NA_Sales</th>\n",
       "      <th>EU_Sales</th>\n",
       "      <th>JP_Sales</th>\n",
       "      <th>Other_Sales</th>\n",
       "      <th>Global_Sales</th>\n",
       "    </tr>\n",
       "  </thead>\n",
       "  <tbody>\n",
       "    <tr>\n",
       "      <th>0</th>\n",
       "      <td>1</td>\n",
       "      <td>Wii Sports</td>\n",
       "      <td>Wii</td>\n",
       "      <td>2006.0</td>\n",
       "      <td>Sports</td>\n",
       "      <td>Nintendo</td>\n",
       "      <td>41.49</td>\n",
       "      <td>29.02</td>\n",
       "      <td>3.77</td>\n",
       "      <td>8.46</td>\n",
       "      <td>82.74</td>\n",
       "    </tr>\n",
       "    <tr>\n",
       "      <th>1</th>\n",
       "      <td>2</td>\n",
       "      <td>Super Mario Bros.</td>\n",
       "      <td>NES</td>\n",
       "      <td>1985.0</td>\n",
       "      <td>Platform</td>\n",
       "      <td>Nintendo</td>\n",
       "      <td>29.08</td>\n",
       "      <td>3.58</td>\n",
       "      <td>6.81</td>\n",
       "      <td>0.77</td>\n",
       "      <td>40.24</td>\n",
       "    </tr>\n",
       "    <tr>\n",
       "      <th>2</th>\n",
       "      <td>3</td>\n",
       "      <td>Mario Kart Wii</td>\n",
       "      <td>Wii</td>\n",
       "      <td>2008.0</td>\n",
       "      <td>Racing</td>\n",
       "      <td>Nintendo</td>\n",
       "      <td>15.85</td>\n",
       "      <td>12.88</td>\n",
       "      <td>3.79</td>\n",
       "      <td>3.31</td>\n",
       "      <td>35.82</td>\n",
       "    </tr>\n",
       "    <tr>\n",
       "      <th>3</th>\n",
       "      <td>4</td>\n",
       "      <td>Wii Sports Resort</td>\n",
       "      <td>Wii</td>\n",
       "      <td>2009.0</td>\n",
       "      <td>Sports</td>\n",
       "      <td>Nintendo</td>\n",
       "      <td>15.75</td>\n",
       "      <td>11.01</td>\n",
       "      <td>3.28</td>\n",
       "      <td>2.96</td>\n",
       "      <td>33.00</td>\n",
       "    </tr>\n",
       "    <tr>\n",
       "      <th>4</th>\n",
       "      <td>5</td>\n",
       "      <td>Pokemon Red/Pokemon Blue</td>\n",
       "      <td>GB</td>\n",
       "      <td>1996.0</td>\n",
       "      <td>Role-Playing</td>\n",
       "      <td>Nintendo</td>\n",
       "      <td>11.27</td>\n",
       "      <td>8.89</td>\n",
       "      <td>10.22</td>\n",
       "      <td>1.00</td>\n",
       "      <td>31.37</td>\n",
       "    </tr>\n",
       "    <tr>\n",
       "      <th>...</th>\n",
       "      <td>...</td>\n",
       "      <td>...</td>\n",
       "      <td>...</td>\n",
       "      <td>...</td>\n",
       "      <td>...</td>\n",
       "      <td>...</td>\n",
       "      <td>...</td>\n",
       "      <td>...</td>\n",
       "      <td>...</td>\n",
       "      <td>...</td>\n",
       "      <td>...</td>\n",
       "    </tr>\n",
       "    <tr>\n",
       "      <th>16269</th>\n",
       "      <td>16272</td>\n",
       "      <td>Slide Adventure: Mag Kid</td>\n",
       "      <td>DS</td>\n",
       "      <td>2007.0</td>\n",
       "      <td>Action</td>\n",
       "      <td>Nintendo</td>\n",
       "      <td>0.00</td>\n",
       "      <td>0.00</td>\n",
       "      <td>0.01</td>\n",
       "      <td>0.00</td>\n",
       "      <td>0.01</td>\n",
       "    </tr>\n",
       "    <tr>\n",
       "      <th>16357</th>\n",
       "      <td>16360</td>\n",
       "      <td>Mario vs. Donkey Kong: Tipping Stars</td>\n",
       "      <td>WiiU</td>\n",
       "      <td>2015.0</td>\n",
       "      <td>Puzzle</td>\n",
       "      <td>Nintendo</td>\n",
       "      <td>0.00</td>\n",
       "      <td>0.00</td>\n",
       "      <td>0.01</td>\n",
       "      <td>0.00</td>\n",
       "      <td>0.01</td>\n",
       "    </tr>\n",
       "    <tr>\n",
       "      <th>16456</th>\n",
       "      <td>16459</td>\n",
       "      <td>Art Academy: Home Studio</td>\n",
       "      <td>WiiU</td>\n",
       "      <td>2015.0</td>\n",
       "      <td>Misc</td>\n",
       "      <td>Nintendo</td>\n",
       "      <td>0.00</td>\n",
       "      <td>0.00</td>\n",
       "      <td>0.01</td>\n",
       "      <td>0.00</td>\n",
       "      <td>0.01</td>\n",
       "    </tr>\n",
       "    <tr>\n",
       "      <th>16473</th>\n",
       "      <td>16476</td>\n",
       "      <td>Captain Rainbow</td>\n",
       "      <td>Wii</td>\n",
       "      <td>2008.0</td>\n",
       "      <td>Adventure</td>\n",
       "      <td>Nintendo</td>\n",
       "      <td>0.00</td>\n",
       "      <td>0.00</td>\n",
       "      <td>0.01</td>\n",
       "      <td>0.00</td>\n",
       "      <td>0.01</td>\n",
       "    </tr>\n",
       "    <tr>\n",
       "      <th>16542</th>\n",
       "      <td>16545</td>\n",
       "      <td>Mario &amp; Luigi: Paper Jam &amp; Mario Kart 7 Double...</td>\n",
       "      <td>3DS</td>\n",
       "      <td>2015.0</td>\n",
       "      <td>Misc</td>\n",
       "      <td>Nintendo</td>\n",
       "      <td>0.00</td>\n",
       "      <td>0.00</td>\n",
       "      <td>0.01</td>\n",
       "      <td>0.00</td>\n",
       "      <td>0.01</td>\n",
       "    </tr>\n",
       "  </tbody>\n",
       "</table>\n",
       "<p>696 rows × 11 columns</p>\n",
       "</div>"
      ],
      "text/plain": [
       "        Rank                                               Name Platform  \\\n",
       "0          1                                         Wii Sports      Wii   \n",
       "1          2                                  Super Mario Bros.      NES   \n",
       "2          3                                     Mario Kart Wii      Wii   \n",
       "3          4                                  Wii Sports Resort      Wii   \n",
       "4          5                           Pokemon Red/Pokemon Blue       GB   \n",
       "...      ...                                                ...      ...   \n",
       "16269  16272                           Slide Adventure: Mag Kid       DS   \n",
       "16357  16360               Mario vs. Donkey Kong: Tipping Stars     WiiU   \n",
       "16456  16459                           Art Academy: Home Studio     WiiU   \n",
       "16473  16476                                    Captain Rainbow      Wii   \n",
       "16542  16545  Mario & Luigi: Paper Jam & Mario Kart 7 Double...      3DS   \n",
       "\n",
       "         Year         Genre Publisher  NA_Sales  EU_Sales  JP_Sales  \\\n",
       "0      2006.0        Sports  Nintendo     41.49     29.02      3.77   \n",
       "1      1985.0      Platform  Nintendo     29.08      3.58      6.81   \n",
       "2      2008.0        Racing  Nintendo     15.85     12.88      3.79   \n",
       "3      2009.0        Sports  Nintendo     15.75     11.01      3.28   \n",
       "4      1996.0  Role-Playing  Nintendo     11.27      8.89     10.22   \n",
       "...       ...           ...       ...       ...       ...       ...   \n",
       "16269  2007.0        Action  Nintendo      0.00      0.00      0.01   \n",
       "16357  2015.0        Puzzle  Nintendo      0.00      0.00      0.01   \n",
       "16456  2015.0          Misc  Nintendo      0.00      0.00      0.01   \n",
       "16473  2008.0     Adventure  Nintendo      0.00      0.00      0.01   \n",
       "16542  2015.0          Misc  Nintendo      0.00      0.00      0.01   \n",
       "\n",
       "       Other_Sales  Global_Sales  \n",
       "0             8.46         82.74  \n",
       "1             0.77         40.24  \n",
       "2             3.31         35.82  \n",
       "3             2.96         33.00  \n",
       "4             1.00         31.37  \n",
       "...            ...           ...  \n",
       "16269         0.00          0.01  \n",
       "16357         0.00          0.01  \n",
       "16456         0.00          0.01  \n",
       "16473         0.00          0.01  \n",
       "16542         0.00          0.01  \n",
       "\n",
       "[696 rows x 11 columns]"
      ]
     },
     "execution_count": 21,
     "metadata": {},
     "output_type": "execute_result"
    }
   ],
   "source": [
    "# Step 6. Focus on Nintendo games. Find mean, median, std for regions NA, EU, JP, Other.\n",
    "# Which region has the highest median?\n",
    "\n",
    "# Сфокусируемся на играх от Nintendo. \n",
    "# Посчитайте среднее, медиану и стандартное отклонение по продажам игр данного издателя в разных регионах (NA, EU, JP, Other). \n",
    "# В каком регионе медианное значение объема продаж является наибольшим?\n",
    "\n",
    "# Filtering our data by only Nintendo games.\n",
    "# Для начала отфильтруем наши игры и оставим только игры от Нинтендо.\n",
    "\n",
    "nintendo_df = df.query('Publisher == \"Nintendo\"')\n",
    "nintendo_df"
   ]
  },
  {
   "cell_type": "code",
   "execution_count": 22,
   "metadata": {},
   "outputs": [
    {
     "data": {
      "text/html": [
       "<div>\n",
       "<style scoped>\n",
       "    .dataframe tbody tr th:only-of-type {\n",
       "        vertical-align: middle;\n",
       "    }\n",
       "\n",
       "    .dataframe tbody tr th {\n",
       "        vertical-align: top;\n",
       "    }\n",
       "\n",
       "    .dataframe thead th {\n",
       "        text-align: right;\n",
       "    }\n",
       "</style>\n",
       "<table border=\"1\" class=\"dataframe\">\n",
       "  <thead>\n",
       "    <tr style=\"text-align: right;\">\n",
       "      <th></th>\n",
       "      <th>NA_Sales</th>\n",
       "      <th>EU_Sales</th>\n",
       "      <th>JP_Sales</th>\n",
       "      <th>Other_Sales</th>\n",
       "      <th>Global_Sales</th>\n",
       "    </tr>\n",
       "  </thead>\n",
       "  <tbody>\n",
       "    <tr>\n",
       "      <th>mean</th>\n",
       "      <td>1.172055</td>\n",
       "      <td>0.601006</td>\n",
       "      <td>0.653721</td>\n",
       "      <td>0.136767</td>\n",
       "      <td>2.563836</td>\n",
       "    </tr>\n",
       "    <tr>\n",
       "      <th>median</th>\n",
       "      <td>0.375000</td>\n",
       "      <td>0.120000</td>\n",
       "      <td>0.280000</td>\n",
       "      <td>0.030000</td>\n",
       "      <td>0.920000</td>\n",
       "    </tr>\n",
       "    <tr>\n",
       "      <th>std</th>\n",
       "      <td>2.989913</td>\n",
       "      <td>1.743953</td>\n",
       "      <td>1.063110</td>\n",
       "      <td>0.464170</td>\n",
       "      <td>5.676925</td>\n",
       "    </tr>\n",
       "  </tbody>\n",
       "</table>\n",
       "</div>"
      ],
      "text/plain": [
       "        NA_Sales  EU_Sales  JP_Sales  Other_Sales  Global_Sales\n",
       "mean    1.172055  0.601006  0.653721     0.136767      2.563836\n",
       "median  0.375000  0.120000  0.280000     0.030000      0.920000\n",
       "std     2.989913  1.743953  1.063110     0.464170      5.676925"
      ]
     },
     "execution_count": 22,
     "metadata": {},
     "output_type": "execute_result"
    }
   ],
   "source": [
    "# Find mean, median, std for regions NA, EU, JP, Other\n",
    "# Найдем среднее, медиану и стандартное отклонение для наших регионов продаж.\n",
    "\n",
    "nintendo_df1 = nintendo_df.agg({'NA_Sales' : ['mean', 'median', 'std'], 'EU_Sales' : ['mean', 'median', 'std'], 'JP_Sales' : ['mean', 'median', 'std'], 'Other_Sales' : ['mean', 'median', 'std'], 'Global_Sales' : ['mean', 'median', 'std']})\n",
    "nintendo_df1\n",
    "\n",
    "# Region with the highest median is NA(North American) regions and Global_Sales and Others are not regions. "
   ]
  },
  {
   "cell_type": "code",
   "execution_count": 24,
   "metadata": {},
   "outputs": [
    {
     "data": {
      "text/plain": [
       "<matplotlib.axes._subplots.AxesSubplot at 0x7f2f1ac5afd0>"
      ]
     },
     "execution_count": 24,
     "metadata": {},
     "output_type": "execute_result"
    },
    {
     "data": {
      "image/png": "[encoded data removed]",
      "text/plain": [
       "<Figure size 864x432 with 1 Axes>"
      ]
     },
     "metadata": {},
     "output_type": "display_data"
    }
   ],
   "source": [
    "# Lets visualize our data for better understanding.\n",
    "# Визуализируем наши данные для большей наглядности. \n",
    "\n",
    "nintendo_df1.plot(kind='bar', figsize=(12, 6), title='Nintendo sales by region')"
   ]
  },
  {
   "cell_type": "code",
   "execution_count": 18,
   "metadata": {},
   "outputs": [
    {
     "data": {
      "text/plain": [
       "<matplotlib.axes._subplots.AxesSubplot at 0x7f0e5e160d30>"
      ]
     },
     "execution_count": 18,
     "metadata": {},
     "output_type": "execute_result"
    },
    {
     "data": {
      "image/png": "[encoded data removed]",
      "text/plain": [
       "<Figure size 1152x1152 with 1 Axes>"
      ]
     },
     "metadata": {},
     "output_type": "display_data"
    }
   ],
   "source": [
    "# Step 7. Lets have a look for Nintendo sales in Japan. Create a boxplot. \n",
    "# Теперь посмотрим на продажи Nintendo в Японии по жанрам. Постройте боксплот. \n",
    "\n",
    "plt.figure(figsize=(16,16))\n",
    "sns.boxplot(data= nintendo_df, x='Genre', y='JP_Sales')\n",
    "\n",
    "# Some important findouts from our boxplot:\n",
    "\n",
    "# 1. Fighting genre has the highest interquartile range.\n",
    "# Наибольший межквартильный размах наблюдается у игр жанра Fighting\n",
    "\n",
    "# 2. Strategy genre has lower interquartile range than Puzzle.\n",
    "# Межквартильный размах у Strategy меньше, чем у Puzzle\n",
    "\n",
    "# 3. Fighting genre has higher median than Simulation.\n",
    "# Медианное значение продаж игр жанра Fighting выше, чем у игр Simulation"
   ]
  },
  {
   "cell_type": "code",
   "execution_count": 27,
   "metadata": {},
   "outputs": [
    {
     "data": {
      "text/plain": [
       "Year    Genre \n",
       "1983.0  Sports     3.20\n",
       "1984.0  Sports     6.18\n",
       "1985.0  Sports     1.96\n",
       "1987.0  Sports     2.15\n",
       "1988.0  Sports     2.42\n",
       "1989.0  Sports     5.72\n",
       "1990.0  Sports     1.48\n",
       "1991.0  Sports     1.38\n",
       "1993.0  Sports     0.80\n",
       "1994.0  Sports     0.59\n",
       "1996.0  Sports     0.53\n",
       "1997.0  Sports     0.17\n",
       "1998.0  Sports     4.01\n",
       "1999.0  Sports     0.54\n",
       "2000.0  Sports     3.57\n",
       "2002.0  Sports     0.25\n",
       "2003.0  Sports     1.53\n",
       "2004.0  Sports     1.89\n",
       "2005.0  Sports     3.75\n",
       "2006.0  Sports    84.62\n",
       "2007.0  Sports    25.63\n",
       "2008.0  Sports     2.72\n",
       "2009.0  Sports    56.67\n",
       "2010.0  Sports     2.18\n",
       "2012.0  Sports     1.05\n",
       "2013.0  Sports     1.69\n",
       "2014.0  Sports     0.88\n",
       "2015.0  Sports     0.45\n",
       "Name: Global_Sales, dtype: float64"
      ]
     },
     "execution_count": 27,
     "metadata": {},
     "output_type": "execute_result"
    }
   ],
   "source": [
    "# Step 8. Visualize the change of sales dynamics of Global_Sales by years for Nintendo, genre: Fighting, Simulation, Platform, Racing, Sports.\n",
    "# In which time period games of Sports genre were popular?\n",
    "\n",
    "# Визуализируйте динамику изменения объема мировых продаж (Global_Sales) по годам для игр Nintendo следующих жанров: Fighting, Simulation, Platform, Racing, Sports.\n",
    "# На каком отрезке времени игры жанра Sports были наиболее популярны?\n",
    "\n",
    "# Filtering our data at first.\n",
    "# Фильтруем наши данные. \n",
    "\n",
    "global_nintendo = nintendo_df.query(\"Genre in ('Fighting', 'Simulation', 'Platform', 'Racing', 'Sports')\")\n",
    "\n",
    "global_nintendo.query('Genre == \"Sports\"').groupby(['Year', 'Genre'])['Global_Sales'].agg('sum')"
   ]
  },
  {
   "cell_type": "code",
   "execution_count": 38,
   "metadata": {},
   "outputs": [
    {
     "data": {
      "text/plain": [
       "<matplotlib.axes._subplots.AxesSubplot at 0x7f0e5cc2cd68>"
      ]
     },
     "execution_count": 38,
     "metadata": {},
     "output_type": "execute_result"
    },
    {
     "data": {
      "image/png": "[encoded data removed]",
      "text/plain": [
       "<Figure size 1944x1008 with 1 Axes>"
      ]
     },
     "metadata": {},
     "output_type": "display_data"
    }
   ],
   "source": [
    "# Boxploting our data to answer our question.\n",
    "# Визулизируем наши данные чтобы ответить на вопрос. \n",
    "\n",
    "plt.figure(figsize=(27,14))\n",
    "sns.boxplot(data= global_nintendo, x='Genre', y='Year')\n",
    "\n",
    "# In which time period games of Sports genre were popular? Answer: from 2005 till 2010.\n",
    "# На каком отрезке времени игры жанра Sports были наиболее популярны? - Ответ: период с 2005 по 2010."
   ]
  }
 ],
 "metadata": {
  "kernelspec": {
   "display_name": "Python 3",
   "language": "python",
   "name": "python3"
  },
  "language_info": {
   "codemirror_mode": {
    "name": "ipython",
    "version": 3
   },
   "file_extension": ".py",
   "mimetype": "text/x-python",
   "name": "python",
   "nbconvert_exporter": "python",
   "pygments_lexer": "ipython3",
   "version": "3.7.3"
  }
 },
 "nbformat": 4,
 "nbformat_minor": 4
}
